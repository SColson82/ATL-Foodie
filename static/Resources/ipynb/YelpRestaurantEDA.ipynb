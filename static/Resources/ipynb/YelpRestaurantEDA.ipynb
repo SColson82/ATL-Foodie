{
 "cells": [
  {
   "cell_type": "code",
   "execution_count": 13,
   "source": [
    "pip install pandas"
   ],
   "outputs": [
    {
     "output_type": "stream",
     "name": "stdout",
     "text": [
      "Requirement already satisfied: pandas in c:\\users\\sharon\\anaconda3\\envs\\pythondata\\lib\\site-packages (1.0.5)\n",
      "Requirement already satisfied: numpy>=1.13.3 in c:\\users\\sharon\\anaconda3\\envs\\pythondata\\lib\\site-packages (from pandas) (1.18.5)\n",
      "Requirement already satisfied: python-dateutil>=2.6.1 in c:\\users\\sharon\\anaconda3\\envs\\pythondata\\lib\\site-packages (from pandas) (2.8.2)\n",
      "Requirement already satisfied: pytz>=2017.2 in c:\\users\\sharon\\anaconda3\\envs\\pythondata\\lib\\site-packages (from pandas) (2020.1)\n",
      "Requirement already satisfied: six>=1.5 in c:\\users\\sharon\\anaconda3\\envs\\pythondata\\lib\\site-packages (from python-dateutil>=2.6.1->pandas) (1.16.0)\n",
      "Note: you may need to restart the kernel to use updated packages.\n"
     ]
    }
   ],
   "metadata": {}
  },
  {
   "cell_type": "code",
   "execution_count": 14,
   "source": [
    "import json\r\n",
    "import pandas as pd\r\n",
    "import numpy as np\r\n",
    "import matplotlib.pyplot as plt\r\n",
    "import seaborn as sns\r\n",
    "# DEBUG_MODE=True"
   ],
   "outputs": [
    {
     "output_type": "error",
     "ename": "ImportError",
     "evalue": "Unable to import required dependencies:\nnumpy: \n\nIMPORTANT: PLEASE READ THIS FOR ADVICE ON HOW TO SOLVE THIS ISSUE!\n\nImporting the numpy C-extensions failed. This error can happen for\nmany reasons, often due to issues with your setup or how NumPy was\ninstalled.\n\nWe have compiled some common reasons and troubleshooting tips at:\n\n    https://numpy.org/devdocs/user/troubleshooting-importerror.html\n\nPlease note and check the following:\n\n  * The Python version is: Python3.6 from \"C:\\Users\\Sharon\\anaconda3\\envs\\PythonData\\python.exe\"\n  * The NumPy version is: \"1.18.5\"\n\nand make sure that they are the versions you expect.\nPlease carefully study the documentation linked above for further help.\n\nOriginal error was: DLL load failed: The specified module could not be found.\n",
     "traceback": [
      "\u001b[1;31m---------------------------------------------------------------------------\u001b[0m",
      "\u001b[1;31mImportError\u001b[0m                               Traceback (most recent call last)",
      "\u001b[1;32m<ipython-input-14-060b4d5c0cbe>\u001b[0m in \u001b[0;36m<module>\u001b[1;34m\u001b[0m\n\u001b[0;32m      1\u001b[0m \u001b[1;32mimport\u001b[0m \u001b[0mjson\u001b[0m\u001b[1;33m\u001b[0m\u001b[1;33m\u001b[0m\u001b[0m\n\u001b[1;32m----> 2\u001b[1;33m \u001b[1;32mimport\u001b[0m \u001b[0mpandas\u001b[0m \u001b[1;32mas\u001b[0m \u001b[0mpd\u001b[0m\u001b[1;33m\u001b[0m\u001b[1;33m\u001b[0m\u001b[0m\n\u001b[0m\u001b[0;32m      3\u001b[0m \u001b[1;32mimport\u001b[0m \u001b[0mnumpy\u001b[0m \u001b[1;32mas\u001b[0m \u001b[0mnp\u001b[0m\u001b[1;33m\u001b[0m\u001b[1;33m\u001b[0m\u001b[0m\n\u001b[0;32m      4\u001b[0m \u001b[1;32mimport\u001b[0m \u001b[0mmatplotlib\u001b[0m\u001b[1;33m.\u001b[0m\u001b[0mpyplot\u001b[0m \u001b[1;32mas\u001b[0m \u001b[0mplt\u001b[0m\u001b[1;33m\u001b[0m\u001b[1;33m\u001b[0m\u001b[0m\n\u001b[0;32m      5\u001b[0m \u001b[1;32mimport\u001b[0m \u001b[0mseaborn\u001b[0m \u001b[1;32mas\u001b[0m \u001b[0msns\u001b[0m\u001b[1;33m\u001b[0m\u001b[1;33m\u001b[0m\u001b[0m\n",
      "\u001b[1;32m~\\anaconda3\\envs\\PythonData\\lib\\site-packages\\pandas\\__init__.py\u001b[0m in \u001b[0;36m<module>\u001b[1;34m\u001b[0m\n\u001b[0;32m     15\u001b[0m \u001b[1;32mif\u001b[0m \u001b[0mmissing_dependencies\u001b[0m\u001b[1;33m:\u001b[0m\u001b[1;33m\u001b[0m\u001b[1;33m\u001b[0m\u001b[0m\n\u001b[0;32m     16\u001b[0m     raise ImportError(\n\u001b[1;32m---> 17\u001b[1;33m         \u001b[1;34m\"Unable to import required dependencies:\\n\"\u001b[0m \u001b[1;33m+\u001b[0m \u001b[1;34m\"\\n\"\u001b[0m\u001b[1;33m.\u001b[0m\u001b[0mjoin\u001b[0m\u001b[1;33m(\u001b[0m\u001b[0mmissing_dependencies\u001b[0m\u001b[1;33m)\u001b[0m\u001b[1;33m\u001b[0m\u001b[1;33m\u001b[0m\u001b[0m\n\u001b[0m\u001b[0;32m     18\u001b[0m     )\n\u001b[0;32m     19\u001b[0m \u001b[1;32mdel\u001b[0m \u001b[0mhard_dependencies\u001b[0m\u001b[1;33m,\u001b[0m \u001b[0mdependency\u001b[0m\u001b[1;33m,\u001b[0m \u001b[0mmissing_dependencies\u001b[0m\u001b[1;33m\u001b[0m\u001b[1;33m\u001b[0m\u001b[0m\n",
      "\u001b[1;31mImportError\u001b[0m: Unable to import required dependencies:\nnumpy: \n\nIMPORTANT: PLEASE READ THIS FOR ADVICE ON HOW TO SOLVE THIS ISSUE!\n\nImporting the numpy C-extensions failed. This error can happen for\nmany reasons, often due to issues with your setup or how NumPy was\ninstalled.\n\nWe have compiled some common reasons and troubleshooting tips at:\n\n    https://numpy.org/devdocs/user/troubleshooting-importerror.html\n\nPlease note and check the following:\n\n  * The Python version is: Python3.6 from \"C:\\Users\\Sharon\\anaconda3\\envs\\PythonData\\python.exe\"\n  * The NumPy version is: \"1.18.5\"\n\nand make sure that they are the versions you expect.\nPlease carefully study the documentation linked above for further help.\n\nOriginal error was: DLL load failed: The specified module could not be found.\n"
     ]
    }
   ],
   "metadata": {}
  },
  {
   "cell_type": "code",
   "execution_count": 9,
   "source": [
    "business_df=pd.read_csv(\"Resources/yelp_atl_restaurants_csv.csv\")\r\n",
    "if DEBUG_MODE==True:\r\n",
    "    business_df=business_df[:1000]\r\n",
    "business_df.head(2)"
   ],
   "outputs": [
    {
     "output_type": "error",
     "ename": "NameError",
     "evalue": "name 'pd' is not defined",
     "traceback": [
      "\u001b[1;31m---------------------------------------------------------------------------\u001b[0m",
      "\u001b[1;31mNameError\u001b[0m                                 Traceback (most recent call last)",
      "\u001b[1;32m<ipython-input-9-538558e80766>\u001b[0m in \u001b[0;36m<module>\u001b[1;34m\u001b[0m\n\u001b[1;32m----> 1\u001b[1;33m \u001b[0mbusiness_df\u001b[0m\u001b[1;33m=\u001b[0m\u001b[0mpd\u001b[0m\u001b[1;33m.\u001b[0m\u001b[0mread_csv\u001b[0m\u001b[1;33m(\u001b[0m\u001b[1;34m\"Resources/yelp_atl_restaurants_csv.csv\"\u001b[0m\u001b[1;33m)\u001b[0m\u001b[1;33m\u001b[0m\u001b[1;33m\u001b[0m\u001b[0m\n\u001b[0m\u001b[0;32m      2\u001b[0m \u001b[1;32mif\u001b[0m \u001b[0mDEBUG_MODE\u001b[0m\u001b[1;33m==\u001b[0m\u001b[1;32mTrue\u001b[0m\u001b[1;33m:\u001b[0m\u001b[1;33m\u001b[0m\u001b[1;33m\u001b[0m\u001b[0m\n\u001b[0;32m      3\u001b[0m     \u001b[0mbusiness_df\u001b[0m\u001b[1;33m=\u001b[0m\u001b[0mbusiness_df\u001b[0m\u001b[1;33m[\u001b[0m\u001b[1;33m:\u001b[0m\u001b[1;36m1000\u001b[0m\u001b[1;33m]\u001b[0m\u001b[1;33m\u001b[0m\u001b[1;33m\u001b[0m\u001b[0m\n\u001b[0;32m      4\u001b[0m \u001b[0mbusiness_df\u001b[0m\u001b[1;33m.\u001b[0m\u001b[0mhead\u001b[0m\u001b[1;33m(\u001b[0m\u001b[1;36m2\u001b[0m\u001b[1;33m)\u001b[0m\u001b[1;33m\u001b[0m\u001b[1;33m\u001b[0m\u001b[0m\n",
      "\u001b[1;31mNameError\u001b[0m: name 'pd' is not defined"
     ]
    }
   ],
   "metadata": {}
  },
  {
   "cell_type": "code",
   "execution_count": null,
   "source": [
    "business_df.to_csv(\"yelp_business_test.csv\")"
   ],
   "outputs": [],
   "metadata": {}
  },
  {
   "cell_type": "code",
   "execution_count": null,
   "source": [
    "atl_restaurants_df = business_df.drop(['Unnamed: 0'], axis=1)\r\n",
    "atl_restaurants_df.head(2)"
   ],
   "outputs": [
    {
     "output_type": "execute_result",
     "data": {
      "text/html": [
       "<div>\n",
       "<style scoped>\n",
       "    .dataframe tbody tr th:only-of-type {\n",
       "        vertical-align: middle;\n",
       "    }\n",
       "\n",
       "    .dataframe tbody tr th {\n",
       "        vertical-align: top;\n",
       "    }\n",
       "\n",
       "    .dataframe thead th {\n",
       "        text-align: right;\n",
       "    }\n",
       "</style>\n",
       "<table border=\"1\" class=\"dataframe\">\n",
       "  <thead>\n",
       "    <tr style=\"text-align: right;\">\n",
       "      <th></th>\n",
       "      <th>business_id</th>\n",
       "      <th>name</th>\n",
       "      <th>address</th>\n",
       "      <th>city</th>\n",
       "      <th>state</th>\n",
       "      <th>postal_code</th>\n",
       "      <th>latitude</th>\n",
       "      <th>longitude</th>\n",
       "      <th>stars</th>\n",
       "      <th>review_count</th>\n",
       "      <th>is_open</th>\n",
       "      <th>attributes</th>\n",
       "      <th>categories</th>\n",
       "      <th>hours</th>\n",
       "    </tr>\n",
       "  </thead>\n",
       "  <tbody>\n",
       "    <tr>\n",
       "      <th>0</th>\n",
       "      <td>z8-_6l5EhX5NuPfWzJYQMA</td>\n",
       "      <td>Great Wraps</td>\n",
       "      <td>3393 Peachtree Rd NE</td>\n",
       "      <td>Atlanta</td>\n",
       "      <td>GA</td>\n",
       "      <td>30326</td>\n",
       "      <td>33.846335</td>\n",
       "      <td>-84.363578</td>\n",
       "      <td>3.0</td>\n",
       "      <td>11</td>\n",
       "      <td>1</td>\n",
       "      <td>{'RestaurantsGoodForGroups': 'False', 'GoodFor...</td>\n",
       "      <td>Food, Restaurants, Cheesesteaks, Sandwiches, J...</td>\n",
       "      <td>{'Monday': '7:0-21:0', 'Tuesday': '7:0-21:0', ...</td>\n",
       "    </tr>\n",
       "    <tr>\n",
       "      <th>1</th>\n",
       "      <td>Q2vefh0tGhtCGQDK1FI7cw</td>\n",
       "      <td>Piece of Cake</td>\n",
       "      <td>3215 Roswell Rd NE</td>\n",
       "      <td>Atlanta</td>\n",
       "      <td>GA</td>\n",
       "      <td>30305</td>\n",
       "      <td>33.842875</td>\n",
       "      <td>-84.378539</td>\n",
       "      <td>4.0</td>\n",
       "      <td>231</td>\n",
       "      <td>1</td>\n",
       "      <td>{'BikeParking': 'True', 'BusinessParking': \"{'...</td>\n",
       "      <td>Restaurants, Patisserie/Cake Shop, Desserts, F...</td>\n",
       "      <td>{'Monday': '0:0-0:0', 'Tuesday': '10:0-17:0', ...</td>\n",
       "    </tr>\n",
       "  </tbody>\n",
       "</table>\n",
       "</div>"
      ],
      "text/plain": [
       "              business_id           name               address     city state  \\\n",
       "0  z8-_6l5EhX5NuPfWzJYQMA    Great Wraps  3393 Peachtree Rd NE  Atlanta    GA   \n",
       "1  Q2vefh0tGhtCGQDK1FI7cw  Piece of Cake    3215 Roswell Rd NE  Atlanta    GA   \n",
       "\n",
       "   postal_code   latitude  longitude  stars  review_count  is_open  \\\n",
       "0        30326  33.846335 -84.363578    3.0            11        1   \n",
       "1        30305  33.842875 -84.378539    4.0           231        1   \n",
       "\n",
       "                                          attributes  \\\n",
       "0  {'RestaurantsGoodForGroups': 'False', 'GoodFor...   \n",
       "1  {'BikeParking': 'True', 'BusinessParking': \"{'...   \n",
       "\n",
       "                                          categories  \\\n",
       "0  Food, Restaurants, Cheesesteaks, Sandwiches, J...   \n",
       "1  Restaurants, Patisserie/Cake Shop, Desserts, F...   \n",
       "\n",
       "                                               hours  \n",
       "0  {'Monday': '7:0-21:0', 'Tuesday': '7:0-21:0', ...  \n",
       "1  {'Monday': '0:0-0:0', 'Tuesday': '10:0-17:0', ...  "
      ]
     },
     "metadata": {},
     "execution_count": 4
    }
   ],
   "metadata": {}
  },
  {
   "cell_type": "code",
   "execution_count": null,
   "source": [
    "atl_restaurants_df.dtypes"
   ],
   "outputs": [
    {
     "output_type": "execute_result",
     "data": {
      "text/plain": [
       "business_id      object\n",
       "name             object\n",
       "address          object\n",
       "city             object\n",
       "state            object\n",
       "postal_code       int64\n",
       "latitude        float64\n",
       "longitude       float64\n",
       "stars           float64\n",
       "review_count      int64\n",
       "is_open           int64\n",
       "attributes       object\n",
       "categories       object\n",
       "hours            object\n",
       "dtype: object"
      ]
     },
     "metadata": {},
     "execution_count": 5
    }
   ],
   "metadata": {}
  },
  {
   "cell_type": "code",
   "execution_count": null,
   "source": [
    "atl_restaurants_df.describe()"
   ],
   "outputs": [
    {
     "output_type": "execute_result",
     "data": {
      "text/html": [
       "<div>\n",
       "<style scoped>\n",
       "    .dataframe tbody tr th:only-of-type {\n",
       "        vertical-align: middle;\n",
       "    }\n",
       "\n",
       "    .dataframe tbody tr th {\n",
       "        vertical-align: top;\n",
       "    }\n",
       "\n",
       "    .dataframe thead th {\n",
       "        text-align: right;\n",
       "    }\n",
       "</style>\n",
       "<table border=\"1\" class=\"dataframe\">\n",
       "  <thead>\n",
       "    <tr style=\"text-align: right;\">\n",
       "      <th></th>\n",
       "      <th>postal_code</th>\n",
       "      <th>latitude</th>\n",
       "      <th>longitude</th>\n",
       "      <th>stars</th>\n",
       "      <th>review_count</th>\n",
       "      <th>is_open</th>\n",
       "    </tr>\n",
       "  </thead>\n",
       "  <tbody>\n",
       "    <tr>\n",
       "      <th>count</th>\n",
       "      <td>1000.000000</td>\n",
       "      <td>1000.000000</td>\n",
       "      <td>1000.000000</td>\n",
       "      <td>1000.00000</td>\n",
       "      <td>1000.000000</td>\n",
       "      <td>1000.000000</td>\n",
       "    </tr>\n",
       "    <tr>\n",
       "      <th>mean</th>\n",
       "      <td>30287.588000</td>\n",
       "      <td>33.820359</td>\n",
       "      <td>-84.337285</td>\n",
       "      <td>3.52300</td>\n",
       "      <td>146.164000</td>\n",
       "      <td>0.608000</td>\n",
       "    </tr>\n",
       "    <tr>\n",
       "      <th>std</th>\n",
       "      <td>89.901505</td>\n",
       "      <td>0.054243</td>\n",
       "      <td>0.046624</td>\n",
       "      <td>0.72041</td>\n",
       "      <td>256.372288</td>\n",
       "      <td>0.488441</td>\n",
       "    </tr>\n",
       "    <tr>\n",
       "      <th>min</th>\n",
       "      <td>30002.000000</td>\n",
       "      <td>33.685215</td>\n",
       "      <td>-84.396438</td>\n",
       "      <td>1.00000</td>\n",
       "      <td>5.000000</td>\n",
       "      <td>0.000000</td>\n",
       "    </tr>\n",
       "    <tr>\n",
       "      <th>25%</th>\n",
       "      <td>30306.000000</td>\n",
       "      <td>33.774780</td>\n",
       "      <td>-84.373898</td>\n",
       "      <td>3.00000</td>\n",
       "      <td>20.000000</td>\n",
       "      <td>0.000000</td>\n",
       "    </tr>\n",
       "    <tr>\n",
       "      <th>50%</th>\n",
       "      <td>30312.000000</td>\n",
       "      <td>33.817587</td>\n",
       "      <td>-84.352818</td>\n",
       "      <td>3.50000</td>\n",
       "      <td>63.000000</td>\n",
       "      <td>1.000000</td>\n",
       "    </tr>\n",
       "    <tr>\n",
       "      <th>75%</th>\n",
       "      <td>30329.000000</td>\n",
       "      <td>33.852920</td>\n",
       "      <td>-84.304802</td>\n",
       "      <td>4.00000</td>\n",
       "      <td>174.000000</td>\n",
       "      <td>1.000000</td>\n",
       "    </tr>\n",
       "    <tr>\n",
       "      <th>max</th>\n",
       "      <td>30360.000000</td>\n",
       "      <td>33.949014</td>\n",
       "      <td>-84.200247</td>\n",
       "      <td>5.00000</td>\n",
       "      <td>3825.000000</td>\n",
       "      <td>1.000000</td>\n",
       "    </tr>\n",
       "  </tbody>\n",
       "</table>\n",
       "</div>"
      ],
      "text/plain": [
       "        postal_code     latitude    longitude       stars  review_count  \\\n",
       "count   1000.000000  1000.000000  1000.000000  1000.00000   1000.000000   \n",
       "mean   30287.588000    33.820359   -84.337285     3.52300    146.164000   \n",
       "std       89.901505     0.054243     0.046624     0.72041    256.372288   \n",
       "min    30002.000000    33.685215   -84.396438     1.00000      5.000000   \n",
       "25%    30306.000000    33.774780   -84.373898     3.00000     20.000000   \n",
       "50%    30312.000000    33.817587   -84.352818     3.50000     63.000000   \n",
       "75%    30329.000000    33.852920   -84.304802     4.00000    174.000000   \n",
       "max    30360.000000    33.949014   -84.200247     5.00000   3825.000000   \n",
       "\n",
       "           is_open  \n",
       "count  1000.000000  \n",
       "mean      0.608000  \n",
       "std       0.488441  \n",
       "min       0.000000  \n",
       "25%       0.000000  \n",
       "50%       1.000000  \n",
       "75%       1.000000  \n",
       "max       1.000000  "
      ]
     },
     "metadata": {},
     "execution_count": 6
    }
   ],
   "metadata": {}
  },
  {
   "cell_type": "code",
   "execution_count": null,
   "source": [
    "print(\"The average review is \", atl_restaurants_df['stars'].mean(), \" stars.\")\r\n",
    "print(\"The average review count is \", atl_restaurants_df['review_count'].mean(), \".\")"
   ],
   "outputs": [
    {
     "output_type": "stream",
     "name": "stdout",
     "text": [
      "The average review is  3.523  stars.\n",
      "The average review count is  146.164 .\n"
     ]
    }
   ],
   "metadata": {}
  },
  {
   "cell_type": "code",
   "execution_count": null,
   "source": [
    "# Get the distribution of the ratings\r\n",
    "x=atl_restaurants_df['stars'].value_counts()\r\n",
    "x=x.sort_index()\r\n",
    "\r\n",
    "#plot\r\n",
    "plt.figure(figsize=(8,4))\r\n",
    "ax=sns.barplot(x=x.index, y=x.values, alpha=0.8)\r\n",
    "plt.title(\"Star Rating Distribution for Atlanta Restaurants\")\r\n",
    "plt.ylabel('# of Businesses', fontsize=12)\r\n",
    "plt.xlabel('Star Ratings', fontsize=12)\r\n",
    "\r\n",
    "#adding the text labels\r\n",
    "rects=ax.patches\r\n",
    "labels=x.values \r\n",
    "for rect, label in zip(rects, labels):\r\n",
    "    height = rect.get_height()\r\n",
    "    ax.text(rect.get_x() + rect.get_width()/2, height, label, ha='center', va= 'bottom')\r\n",
    "\r\n",
    "plt.show()\r\n"
   ],
   "outputs": [
    {
     "output_type": "display_data",
     "data": {
      "image/png": "[encoded data removed]",
      "text/plain": [
       "<Figure size 576x288 with 1 Axes>"
      ]
     },
     "metadata": {
      "needs_background": "light"
     }
    }
   ],
   "metadata": {}
  },
  {
   "cell_type": "code",
   "execution_count": null,
   "source": [
    "rest_stars_df=pd.read_csv(\"static/Resources/categories.csv\")\r\n",
    "rest_stars_df"
   ],
   "outputs": [
    {
     "output_type": "error",
     "ename": "NameError",
     "evalue": "name 'pd' is not defined",
     "traceback": [
      "\u001b[1;31m---------------------------------------------------------------------------\u001b[0m",
      "\u001b[1;31mNameError\u001b[0m                                 Traceback (most recent call last)",
      "\u001b[1;32m<ipython-input-1-ff8e6da971b3>\u001b[0m in \u001b[0;36m<module>\u001b[1;34m\u001b[0m\n\u001b[1;32m----> 1\u001b[1;33m \u001b[0mrest_stars_df\u001b[0m\u001b[1;33m=\u001b[0m\u001b[0mpd\u001b[0m\u001b[1;33m.\u001b[0m\u001b[0mread_csv\u001b[0m\u001b[1;33m(\u001b[0m\u001b[1;34m\"static/Resources/categories.csv\"\u001b[0m\u001b[1;33m)\u001b[0m\u001b[1;33m\u001b[0m\u001b[1;33m\u001b[0m\u001b[0m\n\u001b[0m\u001b[0;32m      2\u001b[0m \u001b[0mrest_stars_df\u001b[0m\u001b[1;33m\u001b[0m\u001b[1;33m\u001b[0m\u001b[0m\n",
      "\u001b[1;31mNameError\u001b[0m: name 'pd' is not defined"
     ]
    }
   ],
   "metadata": {}
  },
  {
   "cell_type": "code",
   "execution_count": null,
   "source": [
    "# List the categories in descending order\r\n",
    "atl_restaurants_df.groupby('categories').size().sort_values(ascending=False)"
   ],
   "outputs": [
    {
     "output_type": "execute_result",
     "data": {
      "text/plain": [
       "categories\n",
       "Restaurants, Pizza                                                              14\n",
       "Mexican, Restaurants                                                            13\n",
       "Restaurants, Mexican                                                            11\n",
       "Chinese, Restaurants                                                            11\n",
       "Pizza, Restaurants                                                               9\n",
       "                                                                                ..\n",
       "Restaurants, Bars, Sports Bars, American (Traditional), Nightlife                1\n",
       "Restaurants, Bars, Seafood, Nightlife, American (New), Cocktail Bars, Diners     1\n",
       "Restaurants, Bars, Sandwiches, Nightlife, Pizza                                  1\n",
       "Restaurants, Bars, Pubs, Nightlife, American (New), Burgers, Gastropubs          1\n",
       "Active Life, Ethiopian, Amateur Sports Teams, Restaurants                        1\n",
       "Length: 834, dtype: int64"
      ]
     },
     "metadata": {},
     "execution_count": 9
    }
   ],
   "metadata": {}
  },
  {
   "cell_type": "markdown",
   "source": [
    "## Visualize the Top Categories "
   ],
   "metadata": {}
  },
  {
   "cell_type": "code",
   "execution_count": null,
   "source": [
    "# Creating x value of the column categories and inclusde counts for y value\r\n",
    "x=atl_restaurants_df['categories'].value_counts()\r\n",
    "x=x.sort_values(ascending=False)\r\n",
    "x=x.iloc[0:20]\r\n",
    "plt.figure(figsize=(16,4))\r\n",
    "ax=sns.barplot(x=x.index, y=x.values, alpha=0.8)\r\n",
    "plt.title(\"The Most Popular Restaurant Categories in Atlanta\")\r\n",
    "locs, labels =plt.xticks()\r\n",
    "plt.setp(labels, rotation=45)\r\n",
    "plt.ylabel(\"# Businesses\", fontsize =12)\r\n",
    "plt.xlabel(\"Food Category\", fontsize=20)\r\n",
    "\r\n",
    "# adding the text labels\r\n",
    "rects = ax.patches\r\n",
    "labels=x.values\r\n",
    "for rect, label in zip(rects, labels):\r\n",
    "    height=rect.get_height()\r\n",
    "    ax.text(rect.get_x() + rect.get_width()/2, height, label, ha='center', va=\"bottom\")\r\n",
    "plt.show()"
   ],
   "outputs": [
    {
     "output_type": "display_data",
     "data": {
      "image/png": "[encoded data removed]",
      "text/plain": [
       "<Figure size 1152x288 with 1 Axes>"
      ]
     },
     "metadata": {
      "needs_background": "light"
     }
    }
   ],
   "metadata": {}
  },
  {
   "cell_type": "code",
   "execution_count": null,
   "source": [],
   "outputs": [],
   "metadata": {}
  }
 ],
 "metadata": {
  "orig_nbformat": 4,
  "language_info": {
   "name": "python",
   "version": "3.6.13",
   "mimetype": "text/x-python",
   "codemirror_mode": {
    "name": "ipython",
    "version": 3
   },
   "pygments_lexer": "ipython3",
   "nbconvert_exporter": "python",
   "file_extension": ".py"
  },
  "kernelspec": {
   "name": "python3",
   "display_name": "Python 3.6.13 64-bit ('PythonData': conda)"
  },
  "interpreter": {
   "hash": "b4b880821d65060c8e4298c7cb03d26338c65489e1f2661ffae60500bf4444f8"
  }
 },
 "nbformat": 4,
 "nbformat_minor": 2
}